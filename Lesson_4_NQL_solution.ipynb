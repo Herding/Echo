{
  "nbformat": 4,
  "nbformat_minor": 0,
  "metadata": {
    "colab": {
      "name": "Lesson 4:NQL_solution.ipynb",
      "version": "0.3.2",
      "provenance": [],
      "include_colab_link": true
    },
    "kernelspec": {
      "display_name": "Python 3",
      "language": "python",
      "name": "python3"
    }
  },
  "cells": [
    {
      "cell_type": "markdown",
      "metadata": {
        "id": "view-in-github",
        "colab_type": "text"
      },
      "source": [
        "<a href=\"https://colab.research.google.com/github/Herding/Echo/blob/master/Lesson_4_NQL_solution.ipynb\" target=\"_parent\"><img src=\"https://colab.research.google.com/assets/colab-badge.svg\" alt=\"Open In Colab\"/></a>"
      ]
    },
    {
      "cell_type": "code",
      "metadata": {
        "id": "_MJd1Djf1KLQ",
        "colab_type": "code",
        "colab": {}
      },
      "source": [
        "#           _____                _____                    _____                    _____                    _____                    _____          \n",
        "#         /\\    \\              /\\    \\                  /\\    \\                  /\\    \\                  /\\    \\                  /\\    \\         \n",
        "#        /::\\    \\            /::\\    \\                /::\\    \\                /::\\    \\                /::\\    \\                /::\\    \\        \n",
        "#       /::::\\    \\           \\:::\\    \\              /::::\\    \\              /::::\\    \\              /::::\\    \\               \\:::\\    \\       \n",
        "#      /::::::\\    \\           \\:::\\    \\            /::::::\\    \\            /::::::\\    \\            /::::::\\    \\               \\:::\\    \\      \n",
        "#     /:::/\\:::\\    \\           \\:::\\    \\          /:::/\\:::\\    \\          /:::/\\:::\\    \\          /:::/\\:::\\    \\               \\:::\\    \\     \n",
        "#    /:::/__\\:::\\    \\           \\:::\\    \\        /:::/__\\:::\\    \\        /:::/__\\:::\\    \\        /:::/__\\:::\\    \\               \\:::\\    \\    \n",
        "#    \\:::\\   \\:::\\    \\          /::::\\    \\      /::::\\   \\:::\\    \\      /::::\\   \\:::\\    \\      /::::\\   \\:::\\    \\              /::::\\    \\   \n",
        "#  ___\\:::\\   \\:::\\    \\        /::::::\\    \\    /::::::\\   \\:::\\    \\    /::::::\\   \\:::\\    \\    /::::::\\   \\:::\\    \\    ____    /::::::\\    \\  \n",
        "# /\\   \\:::\\   \\:::\\    \\      /:::/\\:::\\    \\  /:::/\\:::\\   \\:::\\    \\  /:::/\\:::\\   \\:::\\____\\  /:::/\\:::\\   \\:::\\    \\  /\\   \\  /:::/\\:::\\    \\ \n",
        "#/::\\   \\:::\\   \\:::\\____\\    /:::/  \\:::\\____\\/:::/  \\:::\\   \\:::\\____\\/:::/  \\:::\\   \\:::|    |/:::/  \\:::\\   \\:::\\____\\/::\\   \\/:::/  \\:::\\____\\\n",
        "#\\:::\\   \\:::\\   \\::/    /   /:::/    \\::/    /\\::/    \\:::\\  /:::/    /\\::/   |::::\\  /:::|____|\\::/    \\:::\\  /:::/    /\\:::\\  /:::/    \\::/    /\n",
        "# \\:::\\   \\:::\\   \\/____/   /:::/    / \\/____/  \\/____/ \\:::\\/:::/    /  \\/____|:::::\\/:::/    /  \\/____/ \\:::\\/:::/    /  \\:::\\/:::/    / \\/____/ \n",
        "#  \\:::\\   \\:::\\    \\      /:::/    /                    \\::::::/    /         |:::::::::/    /            \\::::::/    /    \\::::::/    /          \n",
        "#   \\:::\\   \\:::\\____\\    /:::/    /                      \\::::/    /          |::|\\::::/    /              \\::::/    /      \\::::/____/           \n",
        "#    \\:::\\  /:::/    /    \\::/    /                       /:::/    /           |::| \\::/____/               /:::/    /        \\:::\\    \\           \n",
        "#     \\:::\\/:::/    /      \\/____/                       /:::/    /            |::|  ~|                    /:::/    /          \\:::\\    \\          \n",
        "#      \\::::::/    /                                    /:::/    /             |::|   |                   /:::/    /            \\:::\\    \\         \n",
        "#       \\::::/    /                                    /:::/    /              \\::|   |                  /:::/    /              \\:::\\____\\        \n",
        "#        \\::/    /                                     \\::/    /                \\:|   |                  \\::/    /                \\::/    /        \n",
        "#         \\/____/                                       \\/____/                  \\|___|                   \\/____/                  \\/____/  "
      ],
      "execution_count": 0,
      "outputs": []
    },
    {
      "cell_type": "markdown",
      "metadata": {
        "id": "ShkeHEQN1HXI",
        "colab_type": "text"
      },
      "source": [
        "Imports, and dependencies"
      ]
    },
    {
      "cell_type": "code",
      "metadata": {
        "id": "8fGjJUwz1QrV",
        "colab_type": "code",
        "colab": {}
      },
      "source": [
        "!pip install gym pyvirtualdisplay > /dev/null 2>&1\n",
        "!apt-get install -y xvfb python-opengl ffmpeg > /dev/null 2>&1"
      ],
      "execution_count": 0,
      "outputs": []
    },
    {
      "cell_type": "code",
      "metadata": {
        "id": "YAvO1qKA1RD3",
        "colab_type": "code",
        "colab": {}
      },
      "source": [
        "import gym\n",
        "from gym import logger as gymlogger\n",
        "from gym.wrappers import Monitor\n",
        "gymlogger.set_level(40) #error only\n",
        "import tensorflow as tf\n",
        "import numpy as np\n",
        "import random\n",
        "import matplotlib\n",
        "import matplotlib.pyplot as plt\n",
        "%matplotlib inline\n",
        "import math\n",
        "import glob\n",
        "import io\n",
        "import base64\n",
        "from IPython.display import HTML\n",
        "\n",
        "from IPython import display as ipythondisplay\n"
      ],
      "execution_count": 0,
      "outputs": []
    },
    {
      "cell_type": "code",
      "metadata": {
        "id": "yeAllPyL1TBI",
        "colab_type": "code",
        "outputId": "fc0cf46d-62c0-4bd2-c6f5-b97269fd09ab",
        "colab": {
          "base_uri": "https://localhost:8080/",
          "height": 54
        }
      },
      "source": [
        "from pyvirtualdisplay import Display\n",
        "display = Display(visible=0, size=(1400, 900))\n",
        "display.start()"
      ],
      "execution_count": 0,
      "outputs": [
        {
          "output_type": "execute_result",
          "data": {
            "text/plain": [
              "<Display cmd_param=['Xvfb', '-br', '-nolisten', 'tcp', '-screen', '0', '1400x900x24', ':1001'] cmd=['Xvfb', '-br', '-nolisten', 'tcp', '-screen', '0', '1400x900x24', ':1001'] oserror=None return_code=None stdout=\"None\" stderr=\"None\" timeout_happened=False>"
            ]
          },
          "metadata": {
            "tags": []
          },
          "execution_count": 2
        }
      ]
    },
    {
      "cell_type": "code",
      "metadata": {
        "id": "8P79eGjD2QNm",
        "colab_type": "code",
        "colab": {}
      },
      "source": [
        "\"\"\"\n",
        "Utility functions to enable video recording of gym environment and displaying it\n",
        "To enable video, just do \"env = wrap_env(env)\"\"\n",
        "\"\"\"\n",
        "\n",
        "def show_video():\n",
        "  mp4list = glob.glob('video/*.mp4')\n",
        "  if len(mp4list) > 0:\n",
        "    mp4 = mp4list[0]\n",
        "    video = io.open(mp4, 'r+b').read()\n",
        "    encoded = base64.b64encode(video)\n",
        "    ipythondisplay.display(HTML(data='''<video alt=\"test\" autoplay \n",
        "                loop controls style=\"height: 400px;\">\n",
        "                <source src=\"data:video/mp4;base64,{0}\" type=\"video/mp4\" />\n",
        "             </video>'''.format(encoded.decode('ascii'))))\n",
        "  else: \n",
        "    print(\"Could not find video\")\n",
        "    \n",
        "\n",
        "def wrap_env(env):\n",
        "  env = Monitor(env, './video', force=True)\n",
        "  return env"
      ],
      "execution_count": 0,
      "outputs": []
    },
    {
      "cell_type": "markdown",
      "metadata": {
        "id": "0ZhwTwvV2Tz_",
        "colab_type": "text"
      },
      "source": [
        "Imports, hyperparameters and environment setup"
      ]
    },
    {
      "cell_type": "code",
      "metadata": {
        "id": "A0P1vrHn1HXN",
        "colab_type": "code",
        "colab": {}
      },
      "source": [
        "\n",
        "\n",
        "GAMMA = 0.9  # discount factor for target Q\n",
        "INITIAL_EPSILON = 0.6  # starting value of epsilon\n",
        "FINAL_EPSILON = 0.05  # final value of epsilon\n",
        "EPSILON_DECAY_STEPS = 1000\n",
        "TEST_FREQUENCY = 100  # Num episodes to run before visualizing test accuracy\n",
        "HIDDEN_NODES = 20\n",
        "ENV_NAME = 'CartPole-v0'\n",
        "EPISODE = 2100  # Episode limitation\n",
        "STEP = 200  # Step limitation in an episode\n",
        "TEST = 10  # The number of tests to run every TEST_FREQUENCY episodes\n",
        "env = wrap_env(gym.make(ENV_NAME)) #wrapping the env to render as a video\n",
        "epsilon = INITIAL_EPSILON\n",
        "STATE_DIM = env.observation_space.shape[0]\n",
        "ACTION_DIM = env.action_space.n"
      ],
      "execution_count": 0,
      "outputs": []
    },
    {
      "cell_type": "markdown",
      "metadata": {
        "id": "NnBkiGl71HXk",
        "colab_type": "text"
      },
      "source": [
        "Define our inputs"
      ]
    },
    {
      "cell_type": "code",
      "metadata": {
        "id": "39yF0ltD1HXp",
        "colab_type": "code",
        "colab": {}
      },
      "source": [
        "state_in = tf.placeholder(\"float\", [None, STATE_DIM])\n",
        "action_in = tf.placeholder(\"float\", [None, ACTION_DIM]) \n",
        "target_in = tf.placeholder(\"float\", [None])"
      ],
      "execution_count": 0,
      "outputs": []
    },
    {
      "cell_type": "markdown",
      "metadata": {
        "id": "NsMTFZDQ1HXz",
        "colab_type": "text"
      },
      "source": [
        "Define our network"
      ]
    },
    {
      "cell_type": "code",
      "metadata": {
        "id": "GSVfD-4C1HX3",
        "colab_type": "code",
        "colab": {}
      },
      "source": [
        "h1 = tf.layers.dense(state_in, HIDDEN_NODES, activation=tf.nn.relu)\n",
        "h2 = tf.layers.dense(h1, HIDDEN_NODES, activation=tf.nn.relu)\n",
        "\n",
        "q_values = tf.layers.dense(h2, ACTION_DIM, activation=lambda x: x)\n",
        "\n",
        "q_action = tf.reduce_sum(tf.multiply(q_values, action_in), reduction_indices=1)"
      ],
      "execution_count": 0,
      "outputs": []
    },
    {
      "cell_type": "markdown",
      "metadata": {
        "id": "chX-bvF31HX-",
        "colab_type": "text"
      },
      "source": [
        "Define our loss function"
      ]
    },
    {
      "cell_type": "code",
      "metadata": {
        "id": "-hsV_I7b1HYB",
        "colab_type": "code",
        "colab": {}
      },
      "source": [
        "# Define Loss\n",
        "loss = tf.reduce_mean(tf.square(target_in - q_action))\n",
        "optimizer = tf.train.AdamOptimizer(0.0003).minimize(loss)"
      ],
      "execution_count": 0,
      "outputs": []
    },
    {
      "cell_type": "markdown",
      "metadata": {
        "id": "HsL7XHlE1HYJ",
        "colab_type": "text"
      },
      "source": [
        "Define our exploration policy"
      ]
    },
    {
      "cell_type": "code",
      "metadata": {
        "id": "BzHzbANc1HYM",
        "colab_type": "code",
        "colab": {}
      },
      "source": [
        "# NOTE: assumes all our previously defined vars are accessible\n",
        "def explore(state, epsilon):\n",
        "    Q_estimates = q_values.eval(feed_dict={\n",
        "        state_in: [state]\n",
        "    })\n",
        "    if random.random() <= epsilon:\n",
        "            action = random.randint(0, ACTION_DIM - 1)\n",
        "    else:\n",
        "        action = np.argmax(Q_estimates)\n",
        "    one_hot_action = np.zeros(ACTION_DIM)\n",
        "    one_hot_action[action] = 1\n",
        "    return one_hot_action"
      ],
      "execution_count": 0,
      "outputs": []
    },
    {
      "cell_type": "markdown",
      "metadata": {
        "id": "7O9f3XK31HYW",
        "colab_type": "text"
      },
      "source": [
        "Initialize Network"
      ]
    },
    {
      "cell_type": "code",
      "metadata": {
        "id": "uBW-yH4G1HYZ",
        "colab_type": "code",
        "colab": {}
      },
      "source": [
        "# Start session - Tensorflow housekeeping\n",
        "session = tf.InteractiveSession()\n",
        "session.run(tf.global_variables_initializer())"
      ],
      "execution_count": 0,
      "outputs": []
    },
    {
      "cell_type": "markdown",
      "metadata": {
        "id": "kP6yJsia1HYn",
        "colab_type": "text"
      },
      "source": [
        "Now our main loop"
      ]
    },
    {
      "cell_type": "code",
      "metadata": {
        "id": "58XxqigK1HYs",
        "colab_type": "code",
        "outputId": "df89a778-19f3-4233-999f-46b62848634c",
        "colab": {
          "base_uri": "https://localhost:8080/",
          "height": 768
        }
      },
      "source": [
        "for episode in range(EPISODE):\n",
        "    # initialize task\n",
        "    state = env.reset()\n",
        "\n",
        "    # Update epsilon once per episode - linear schedule\n",
        "    epsilon -= epsilon / EPSILON_DECAY_STEPS\n",
        "\n",
        "    # Move through env according to e-greedy policy\n",
        "    for step in range(STEP):\n",
        "        action = explore(state, epsilon)\n",
        "\n",
        "        next_state, reward, done, _ = env.step(np.argmax(action))\n",
        "\n",
        "        nextstate_q_values = q_values.eval(feed_dict={\n",
        "            state_in: [next_state]\n",
        "        })\n",
        "\n",
        "        if done:\n",
        "            target = reward\n",
        "        else:\n",
        "            target = reward + GAMMA * np.max(nextstate_q_values)\n",
        "\n",
        "        session.run([optimizer], feed_dict={\n",
        "            target_in: [target],\n",
        "            action_in: [action],\n",
        "            state_in: [state]\n",
        "        })\n",
        "        state = next_state\n",
        "        if done:\n",
        "            break\n",
        "\n",
        "    # Test and view sample runs - can disable render to save time\n",
        "    if (episode % TEST_FREQUENCY == 0 and episode != 0):\n",
        "        total_reward = 0\n",
        "        for i in range(TEST):\n",
        "            state = env.reset()\n",
        "            for j in range(STEP):\n",
        "                env.render()\n",
        "                action = np.argmax(q_values.eval(feed_dict={\n",
        "                    state_in: [state]\n",
        "                    }))\n",
        "                state, reward, done, _ = env.step(action)\n",
        "                total_reward += reward\n",
        "                if done:\n",
        "                    break\n",
        "        ave_reward = total_reward / TEST\n",
        "        print('episode:', episode, 'epsilon:', epsilon, 'Evaluation '\n",
        "                                    'Average Reward:', ave_reward)\n",
        "\n",
        "env.close()\n",
        "show_video()"
      ],
      "execution_count": 0,
      "outputs": [
        {
          "output_type": "stream",
          "text": [
            "episode: 100 epsilon: 0.5423324129799574 Evaluation Average Reward: 9.2\n",
            "episode: 200 epsilon: 0.4906981083894946 Evaluation Average Reward: 10.9\n",
            "episode: 300 epsilon: 0.4439797950743664 Evaluation Average Reward: 17.2\n",
            "episode: 400 epsilon: 0.40170943206044074 Evaluation Average Reward: 24.7\n",
            "episode: 500 epsilon: 0.3634635395497947 Evaluation Average Reward: 44.1\n",
            "episode: 600 epsilon: 0.32885895634680723 Evaluation Average Reward: 64.9\n",
            "episode: 700 epsilon: 0.29754900121060135 Evaluation Average Reward: 31.2\n",
            "episode: 800 epsilon: 0.26921999967687993 Evaluation Average Reward: 67.2\n",
            "episode: 900 epsilon: 0.24358814155359615 Evaluation Average Reward: 57.4\n",
            "episode: 1000 epsilon: 0.2203966376077164 Evaluation Average Reward: 83.6\n",
            "episode: 1100 epsilon: 0.19941314695772788 Evaluation Average Reward: 180.3\n",
            "episode: 1200 epsilon: 0.18042744939858418 Evaluation Average Reward: 200.0\n",
            "episode: 1300 epsilon: 0.16324933933959496 Evaluation Average Reward: 129.2\n",
            "episode: 1400 epsilon: 0.14770672025596665 Evaluation Average Reward: 23.2\n",
            "episode: 1500 epsilon: 0.13364388056352003 Evaluation Average Reward: 155.0\n",
            "episode: 1600 epsilon: 0.12091993364367537 Evaluation Average Reward: 193.4\n",
            "episode: 1700 epsilon: 0.10940740639030819 Evaluation Average Reward: 187.8\n",
            "episode: 1800 epsilon: 0.09899096213802909 Evaluation Average Reward: 136.9\n",
            "episode: 1900 epsilon: 0.08956624517771923 Evaluation Average Reward: 101.7\n",
            "episode: 2000 epsilon: 0.08103883528326146 Evaluation Average Reward: 190.6\n"
          ],
          "name": "stdout"
        },
        {
          "output_type": "display_data",
          "data": {
            "text/html": [
              "<video alt=\"test\" autoplay \n",
              "                loop controls style=\"height: 400px;\">\n",
              "                <source src=\"data:video/mp4;base64,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\" type=\"video/mp4\" />\n",
              "             </video>"
            ],
            "text/plain": [
              "<IPython.core.display.HTML object>"
            ]
          },
          "metadata": {
            "tags": []
          }
        }
      ]
    }
  ]
}