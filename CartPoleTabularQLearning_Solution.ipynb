{
  "nbformat": 4,
  "nbformat_minor": 0,
  "metadata": {
    "colab": {
      "name": "CartPoleTabularQLearning-Solution.ipynb",
      "version": "0.3.2",
      "provenance": [],
      "collapsed_sections": [],
      "include_colab_link": true
    },
    "kernelspec": {
      "display_name": "Python 3",
      "language": "python",
      "name": "python3"
    }
  },
  "cells": [
    {
      "cell_type": "markdown",
      "metadata": {
        "id": "view-in-github",
        "colab_type": "text"
      },
      "source": [
        "<a href=\"https://colab.research.google.com/github/Herding/Echo/blob/master/CartPoleTabularQLearning_Solution.ipynb\" target=\"_parent\"><img src=\"https://colab.research.google.com/assets/colab-badge.svg\" alt=\"Open In Colab\"/></a>"
      ]
    },
    {
      "cell_type": "code",
      "metadata": {
        "id": "b84iUTHeAc0G",
        "colab_type": "code",
        "colab": {}
      },
      "source": [
        "#           _____                _____                    _____                    _____                    _____                    _____          \n",
        "#         /\\    \\              /\\    \\                  /\\    \\                  /\\    \\                  /\\    \\                  /\\    \\         \n",
        "#        /::\\    \\            /::\\    \\                /::\\    \\                /::\\    \\                /::\\    \\                /::\\    \\        \n",
        "#       /::::\\    \\           \\:::\\    \\              /::::\\    \\              /::::\\    \\              /::::\\    \\               \\:::\\    \\       \n",
        "#      /::::::\\    \\           \\:::\\    \\            /::::::\\    \\            /::::::\\    \\            /::::::\\    \\               \\:::\\    \\      \n",
        "#     /:::/\\:::\\    \\           \\:::\\    \\          /:::/\\:::\\    \\          /:::/\\:::\\    \\          /:::/\\:::\\    \\               \\:::\\    \\     \n",
        "#    /:::/__\\:::\\    \\           \\:::\\    \\        /:::/__\\:::\\    \\        /:::/__\\:::\\    \\        /:::/__\\:::\\    \\               \\:::\\    \\    \n",
        "#    \\:::\\   \\:::\\    \\          /::::\\    \\      /::::\\   \\:::\\    \\      /::::\\   \\:::\\    \\      /::::\\   \\:::\\    \\              /::::\\    \\   \n",
        "#  ___\\:::\\   \\:::\\    \\        /::::::\\    \\    /::::::\\   \\:::\\    \\    /::::::\\   \\:::\\    \\    /::::::\\   \\:::\\    \\    ____    /::::::\\    \\  \n",
        "# /\\   \\:::\\   \\:::\\    \\      /:::/\\:::\\    \\  /:::/\\:::\\   \\:::\\    \\  /:::/\\:::\\   \\:::\\____\\  /:::/\\:::\\   \\:::\\    \\  /\\   \\  /:::/\\:::\\    \\ \n",
        "#/::\\   \\:::\\   \\:::\\____\\    /:::/  \\:::\\____\\/:::/  \\:::\\   \\:::\\____\\/:::/  \\:::\\   \\:::|    |/:::/  \\:::\\   \\:::\\____\\/::\\   \\/:::/  \\:::\\____\\\n",
        "#\\:::\\   \\:::\\   \\::/    /   /:::/    \\::/    /\\::/    \\:::\\  /:::/    /\\::/   |::::\\  /:::|____|\\::/    \\:::\\  /:::/    /\\:::\\  /:::/    \\::/    /\n",
        "# \\:::\\   \\:::\\   \\/____/   /:::/    / \\/____/  \\/____/ \\:::\\/:::/    /  \\/____|:::::\\/:::/    /  \\/____/ \\:::\\/:::/    /  \\:::\\/:::/    / \\/____/ \n",
        "#  \\:::\\   \\:::\\    \\      /:::/    /                    \\::::::/    /         |:::::::::/    /            \\::::::/    /    \\::::::/    /          \n",
        "#   \\:::\\   \\:::\\____\\    /:::/    /                      \\::::/    /          |::|\\::::/    /              \\::::/    /      \\::::/____/           \n",
        "#    \\:::\\  /:::/    /    \\::/    /                       /:::/    /           |::| \\::/____/               /:::/    /        \\:::\\    \\           \n",
        "#     \\:::\\/:::/    /      \\/____/                       /:::/    /            |::|  ~|                    /:::/    /          \\:::\\    \\          \n",
        "#      \\::::::/    /                                    /:::/    /             |::|   |                   /:::/    /            \\:::\\    \\         \n",
        "#       \\::::/    /                                    /:::/    /              \\::|   |                  /:::/    /              \\:::\\____\\        \n",
        "#        \\::/    /                                     \\::/    /                \\:|   |                  \\::/    /                \\::/    /        \n",
        "#         \\/____/                                       \\/____/                  \\|___|                   \\/____/                  \\/____/         "
      ],
      "execution_count": 0,
      "outputs": []
    },
    {
      "cell_type": "markdown",
      "metadata": {
        "id": "FbZN1xJ_oxPU",
        "colab_type": "text"
      },
      "source": [
        "# Cartpole Tabular Q Learning\n",
        "\n",
        "Docs:  \n",
        "https://github.com/openai/gym/wiki/CartPole-v0"
      ]
    },
    {
      "cell_type": "code",
      "metadata": {
        "id": "N8ViY2gqo2Ju",
        "colab_type": "code",
        "colab": {}
      },
      "source": [
        "!pip install gym pyvirtualdisplay > /dev/null 2>&1\n",
        "!apt-get install -y xvfb python-opengl ffmpeg > /dev/null 2>&1"
      ],
      "execution_count": 0,
      "outputs": []
    },
    {
      "cell_type": "code",
      "metadata": {
        "id": "4X-_KQXGoxPW",
        "colab_type": "code",
        "colab": {}
      },
      "source": [
        "import gym\n",
        "from gym import logger as gymlogger\n",
        "from gym.wrappers import Monitor\n",
        "gymlogger.set_level(40) #error only\n",
        "import numpy as np\n",
        "import random\n",
        "import matplotlib\n",
        "import matplotlib.pyplot as plt\n",
        "%matplotlib inline\n",
        "import math\n",
        "import glob\n",
        "import io\n",
        "import base64\n",
        "from IPython.display import HTML\n",
        "\n",
        "from IPython import display as ipythondisplay\n"
      ],
      "execution_count": 0,
      "outputs": []
    },
    {
      "cell_type": "code",
      "metadata": {
        "id": "1gjHH1Xns8Ks",
        "colab_type": "code",
        "outputId": "3677b392-4ae6-4333-ca32-d83508d15bb9",
        "colab": {
          "base_uri": "https://localhost:8080/",
          "height": 54
        }
      },
      "source": [
        "from pyvirtualdisplay import Display\n",
        "display = Display(visible=0, size=(1400, 900))\n",
        "display.start()"
      ],
      "execution_count": 0,
      "outputs": [
        {
          "output_type": "execute_result",
          "data": {
            "text/plain": [
              "<Display cmd_param=['Xvfb', '-br', '-nolisten', 'tcp', '-screen', '0', '1400x900x24', ':1005'] cmd=['Xvfb', '-br', '-nolisten', 'tcp', '-screen', '0', '1400x900x24', ':1005'] oserror=None return_code=None stdout=\"None\" stderr=\"None\" timeout_happened=False>"
            ]
          },
          "metadata": {
            "tags": []
          },
          "execution_count": 3
        }
      ]
    },
    {
      "cell_type": "code",
      "metadata": {
        "id": "d5fq3VdNvRRY",
        "colab_type": "code",
        "colab": {}
      },
      "source": [
        "\"\"\"\n",
        "Utility functions to enable video recording of gym environment and displaying it\n",
        "To enable video, just do \"env = wrap_env(env)\"\"\n",
        "\"\"\"\n",
        "\n",
        "def show_video():\n",
        "  mp4list = glob.glob('video/*.mp4')\n",
        "  if len(mp4list) > 0:\n",
        "    mp4 = mp4list[0]\n",
        "    video = io.open(mp4, 'r+b').read()\n",
        "    encoded = base64.b64encode(video)\n",
        "    ipythondisplay.display(HTML(data='''<video alt=\"test\" autoplay \n",
        "                loop controls style=\"height: 400px;\">\n",
        "                <source src=\"data:video/mp4;base64,{0}\" type=\"video/mp4\" />\n",
        "             </video>'''.format(encoded.decode('ascii'))))\n",
        "  else: \n",
        "    print(\"Could not find video\")\n",
        "    \n",
        "\n",
        "def wrap_env(env):\n",
        "  env = Monitor(env, './video', force=True)\n",
        "  return env\n"
      ],
      "execution_count": 0,
      "outputs": []
    },
    {
      "cell_type": "markdown",
      "metadata": {
        "id": "IzChlVQAoxPZ",
        "colab_type": "text"
      },
      "source": [
        "# Play around with the environment"
      ]
    },
    {
      "cell_type": "code",
      "metadata": {
        "id": "SVAn7_MT7Ige",
        "colab_type": "code",
        "outputId": "8493d00f-af09-4c90-99e6-1b27575f88c6",
        "colab": {
          "base_uri": "https://localhost:8080/",
          "height": 727
        }
      },
      "source": [
        "env = wrap_env(gym.make('CartPole-v0'))\n",
        "\n",
        "observations = []\n",
        "for i_episode in range(1):\n",
        "    observation = env.reset()\n",
        "    observations.append(observation)\n",
        "    for t in range(100):\n",
        "        env.render()\n",
        "        action = env.action_space.sample()\n",
        "        observation, reward, done, info = env.step(action)\n",
        "        \n",
        "        # record state, reward, done for printing\n",
        "        observations.append((observation, reward, done))\n",
        "        if done:\n",
        "            print(\"Episode finished after {} timesteps\".format(t+1))\n",
        "            break\n",
        "env.close()\n",
        "for ob in observations: print(ob)\n",
        "show_video()"
      ],
      "execution_count": 0,
      "outputs": [
        {
          "output_type": "stream",
          "text": [
            "Episode finished after 16 timesteps\n",
            "[-0.02019371 -0.03341369  0.03936376  0.0403443 ]\n",
            "(array([-0.02086198, -0.22907736,  0.04017065,  0.34518241]), 1.0, False)\n",
            "(array([-0.02544353, -0.03454918,  0.0470743 ,  0.06543253]), 1.0, False)\n",
            "(array([-0.02613451,  0.15986735,  0.04838295, -0.21203447]), 1.0, False)\n",
            "(array([-0.02293717, -0.03591177,  0.04414226,  0.09550959]), 1.0, False)\n",
            "(array([-0.0236554 ,  0.15855062,  0.04605245, -0.18292625]), 1.0, False)\n",
            "(array([-0.02048439,  0.3529844 ,  0.04239392, -0.46073306]), 1.0, False)\n",
            "(array([-0.0134247 ,  0.5474823 ,  0.03317926, -0.73975771]), 1.0, False)\n",
            "(array([-0.00247505,  0.7421308 ,  0.01838411, -1.02181684]), 1.0, False)\n",
            "(array([ 0.01236756,  0.93700306, -0.00205223, -1.30867122]), 1.0, False)\n",
            "(array([ 0.03110762,  1.13215096, -0.02822565, -1.6019958 ]), 1.0, False)\n",
            "(array([ 0.05375064,  1.32759544, -0.06026557, -1.90334299]), 1.0, False)\n",
            "(array([ 0.08030255,  1.13317442, -0.09833243, -1.62994826]), 1.0, False)\n",
            "(array([ 0.10296604,  0.93933587, -0.13093139, -1.36945817]), 1.0, False)\n",
            "(array([ 0.12175276,  1.13583023, -0.15832056, -1.70006088]), 1.0, False)\n",
            "(array([ 0.14446936,  0.94284752, -0.19232177, -1.46055916]), 1.0, False)\n",
            "(array([ 0.16332631,  0.75053253, -0.22153296, -1.2335999 ]), 1.0, True)\n"
          ],
          "name": "stdout"
        },
        {
          "output_type": "display_data",
          "data": {
            "text/html": [
              "<video alt=\"test\" autoplay \n",
              "                loop controls style=\"height: 400px;\">\n",
              "                <source src=\"data:video/mp4;base64,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\" type=\"video/mp4\" />\n",
              "             </video>"
            ],
            "text/plain": [
              "<IPython.core.display.HTML object>"
            ]
          },
          "metadata": {
            "tags": []
          }
        }
      ]
    },
    {
      "cell_type": "code",
      "metadata": {
        "id": "Ln5EwCGvoxPe",
        "colab_type": "code",
        "outputId": "192294bb-c243-439c-a721-ec610fedcf26",
        "colab": {
          "base_uri": "https://localhost:8080/",
          "height": 85
        }
      },
      "source": [
        "print(env.action_space)\n",
        "print(env.observation_space)\n",
        "print(env.observation_space.high)\n",
        "print(env.observation_space.low)"
      ],
      "execution_count": 0,
      "outputs": [
        {
          "output_type": "stream",
          "text": [
            "Discrete(2)\n",
            "Box(4,)\n",
            "[4.8000002e+00 3.4028235e+38 4.1887903e-01 3.4028235e+38]\n",
            "[-4.8000002e+00 -3.4028235e+38 -4.1887903e-01 -3.4028235e+38]\n"
          ],
          "name": "stdout"
        }
      ]
    },
    {
      "cell_type": "markdown",
      "metadata": {
        "id": "VMyGpuHAoxPg",
        "colab_type": "text"
      },
      "source": [
        "# Discretisation"
      ]
    },
    {
      "cell_type": "code",
      "metadata": {
        "id": "JBXMo-cXoxPg",
        "colab_type": "code",
        "outputId": "dcce3fc3-26fb-4743-df43-1ddae70a2afd",
        "colab": {
          "base_uri": "https://localhost:8080/",
          "height": 68
        }
      },
      "source": [
        "x = np.array([-0.1, 0.1, 2.4, 3.0, 4.6, 5.5, 6])  # some numbers that we want to see which bin they belong to\n",
        "bins = np.array(np.linspace(-2.4, 2.4, 3)) # create 3 bins between 0 and 5\n",
        "out = np.digitize(x, bins)   # convert our inputs to the our bin values\n",
        "print(\"bins:\", bins.tolist())\n",
        "print(\"x:\", x.tolist())\n",
        "print(\"out:\", out)"
      ],
      "execution_count": 0,
      "outputs": [
        {
          "output_type": "stream",
          "text": [
            "bins: [-2.4, 0.0, 2.4]\n",
            "x: [-0.1, 0.1, 2.4, 3.0, 4.6, 5.5, 6.0]\n",
            "out: [1 2 3 3 3 3 3]\n"
          ],
          "name": "stdout"
        }
      ]
    },
    {
      "cell_type": "markdown",
      "metadata": {
        "id": "MFkYjdCDoxPj",
        "colab_type": "text"
      },
      "source": [
        "# The Tools"
      ]
    },
    {
      "cell_type": "code",
      "metadata": {
        "id": "LwibEjF1oxPk",
        "colab_type": "code",
        "outputId": "9a1a73b5-b204-4489-b414-4ffee1ad2d1b",
        "colab": {
          "base_uri": "https://localhost:8080/",
          "height": 204
        }
      },
      "source": [
        "class Epsilon(object):\n",
        "    def __init__(self, start=1.0, end=0.01, update_decrement=0.01):\n",
        "        self.start = start\n",
        "        self.end = end\n",
        "        self.update_decrement = update_decrement\n",
        "        self._value = self.start\n",
        "        self.isTraining = True\n",
        "    \n",
        "    def decrement(self, count=1):\n",
        "        self._value = max(self.end, self._value - self.update_decrement*count)\n",
        "        return self\n",
        "        \n",
        "    def value(self):\n",
        "        if not self.isTraining:\n",
        "            return 0.0\n",
        "        else:\n",
        "            return self._value\n",
        "\"\"\"\n",
        "Instantiate object with epsilon starting at 1.0 (100% exploration), final value 0.01 (1% exploration), \n",
        "each time we call decrement it'll go down by 0.01. \n",
        "If eps.isTraining is set to True then it'll return 0.0 (zero exploration)\n",
        "\"\"\"\n",
        "eps = Epsilon(start=1.0, end=0.01, update_decrement=0.01)\n",
        "print(eps.value())\n",
        "print(\"decrementing 3 times\")\n",
        "print(eps.decrement().value())\n",
        "print(eps.decrement().value())\n",
        "print(eps.decrement().value())\n",
        "print(\"decrement 99 times and the lowest it goes to is 0.01\")\n",
        "print(eps.decrement(99).value())\n",
        "print(\"Set training = False\")\n",
        "eps.isTraining = False\n",
        "print(eps.decrement().value())\n",
        "print(\"Set training = True\")\n",
        "eps.isTraining = True\n",
        "print(eps.decrement().value())"
      ],
      "execution_count": 0,
      "outputs": [
        {
          "output_type": "stream",
          "text": [
            "1.0\n",
            "decrementing 3 times\n",
            "0.99\n",
            "0.98\n",
            "0.97\n",
            "decrement 99 times and the lowest it goes to is 0.01\n",
            "0.01\n",
            "Set training = False\n",
            "0.0\n",
            "Set training = True\n",
            "0.01\n"
          ],
          "name": "stdout"
        }
      ]
    },
    {
      "cell_type": "code",
      "metadata": {
        "id": "aw5aEpZQoxPn",
        "colab_type": "code",
        "colab": {}
      },
      "source": [
        "class QTable():\n",
        "    def __init__(self, num_actions=4):\n",
        "        self.num_actions = num_actions\n",
        "        self.Q = {}\n",
        "    \n",
        "    \"\"\"Q(s, a): get the Q value of (s, a) pair\"\"\"\n",
        "    def get_Q(self, s, a):\n",
        "        self._check(s)\n",
        "        return self.Q[s][a]\n",
        "\n",
        "    \"\"\"if Q(s) doesn't exist initialize to 0\"\"\"\n",
        "    def _check(self, s):\n",
        "        if not s in self.Q:\n",
        "            self.Q[s] = [0.]*self.num_actions\n",
        "    \n",
        "    \"\"\"max Q(s): get the max of all Q value of state s\"\"\"\n",
        "    def get_max_Q(self, s):\n",
        "        self._check(s)\n",
        "        return np.max(self.Q[s])\n",
        "    \n",
        "    \"\"\"Q(s, a) = q: update the q value of (s, a) pair\"\"\"\n",
        "    def set_Q(self, s, a, q):\n",
        "        self._check(s)\n",
        "        self.Q[s][a] = q\n",
        "    \n",
        "    \"\"\"\n",
        "    argmax_a Q(s, a): get the action which has the highest Q in state s\n",
        "    - beware of the scenario where all Q[s] are equal, np.argmax just returns the first one\n",
        "    \"\"\"\n",
        "    def get_max_a_for_Q(self, s):\n",
        "        self._check(s)\n",
        "        if np.min(self.Q[s]) == np.max(self.Q[s]):\n",
        "          return random.choice([i for i in range(self.num_actions)]) # if all values are equal then do a random choice\n",
        "        else:\n",
        "          return np.argmax(self.Q[s])\n",
        "    \n",
        "    def __str__(self):\n",
        "        output = []\n",
        "        for s in self.Q:\n",
        "            output.append(s.__str__() + \": \" + [\"{:07.4f}\".format(a) for a in self.Q[s]].__str__())\n",
        "        output.sort()\n",
        "        return \"QTable (number of actions = \" + str(self.num_actions) + \", states = \" + str(len(output)) + \"):\\n\" + \"\\n\".join(output)"
      ],
      "execution_count": 0,
      "outputs": []
    },
    {
      "cell_type": "markdown",
      "metadata": {
        "id": "AgShSdE_oxPp",
        "colab_type": "text"
      },
      "source": [
        "# Exercise: Q Learner for Cartpole\n",
        "### Suggested progression\n",
        "- Get agent training loop working with random action\n",
        "- Convert env state space into discretised states\n",
        "- Get agent action selection to use epsilon-greedy\n",
        "- Get agent to store and update Q values"
      ]
    },
    {
      "cell_type": "code",
      "metadata": {
        "id": "EnJ6_qajoxPp",
        "colab_type": "code",
        "outputId": "8dedb450-32b0-4e99-b056-34f7866d6e5c",
        "colab": {
          "base_uri": "https://localhost:8080/",
          "height": 438
        }
      },
      "source": [
        "class Agent():\n",
        "    def __init__(self):\n",
        "        self.env = gym.make('CartPole-v0')\n",
        "        self.Q = QTable(num_actions=2)\n",
        "        self.epsilon = Epsilon(start=1.0, end=0.05, update_decrement=0.002)\n",
        "        \n",
        "    def getAction(self, s):\n",
        "        # TODO: implement epsilon-greedy policy\n",
        "        \n",
        "        action = self.env.action_space.sample()\n",
        "        return action\n",
        "    \n",
        "    def train(self, episodes=100):\n",
        "        # TODO: \n",
        "        # - Convert env state space into discretised states\n",
        "        # - Store and update Q values\n",
        "        pass\n",
        "                \n",
        "    \n",
        "    def run(self):\n",
        "        self.env = wrap_env(gym.make('CartPole-v0'))\n",
        "        self.epsilon.isTraining = False\n",
        "        s = self.env.reset()\n",
        "        steps = 0\n",
        "        while True:\n",
        "            self.env.render()\n",
        "            action = self.getAction(s)\n",
        "            s_1, reward, done, info = self.env.step(action)\n",
        "            steps += 1\n",
        "            if done:\n",
        "                print(\"Episode finished after {} timesteps\".format(steps))\n",
        "                break\n",
        "        self.env.close()\n",
        "        \n",
        "\n",
        "agent = Agent()\n",
        "agent.train(episodes=2)\n",
        "agent.run()\n",
        "\n",
        "show_video()"
      ],
      "execution_count": 0,
      "outputs": [
        {
          "output_type": "stream",
          "text": [
            "Episode finished after 13 timesteps\n"
          ],
          "name": "stdout"
        },
        {
          "output_type": "display_data",
          "data": {
            "text/html": [
              "<video alt=\"test\" autoplay \n",
              "                loop controls style=\"height: 400px;\">\n",
              "                <source src=\"data:video/mp4;base64,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\" type=\"video/mp4\" />\n",
              "             </video>"
            ],
            "text/plain": [
              "<IPython.core.display.HTML object>"
            ]
          },
          "metadata": {
            "tags": []
          }
        }
      ]
    },
    {
      "cell_type": "markdown",
      "metadata": {
        "id": "qsZ8cv6xoxPx",
        "colab_type": "text"
      },
      "source": [
        "# Solution 1"
      ]
    },
    {
      "cell_type": "code",
      "metadata": {
        "id": "cDtYQgaAoxPy",
        "colab_type": "code",
        "colab": {}
      },
      "source": [
        "class Agent():\n",
        "    def __init__(self):\n",
        "        self.env = gym.make('CartPole-v0')\n",
        "        self.alpha = 0.2\n",
        "        self.gamma = 0.999\n",
        "        self.Q = QTable(num_actions=2)\n",
        "        self.epsilon = Epsilon(start=1.0, end=0.0, update_decrement=0.00001)\n",
        "        \n",
        "        # get initial state, divide continuous states into discrete bins\n",
        "        self.bins = []\n",
        "        self.bins.append(np.linspace(-2., 2., 3))\n",
        "        self.bins.append(np.linspace(-10, 10, 1))\n",
        "        self.bins.append(np.linspace(-math.radians(10), math.radians(10), 5))\n",
        "        self.bins.append(np.linspace(-math.radians(20), math.radians(20), 3))\n",
        "        \n",
        "        self.episode_durations = []\n",
        "        \n",
        "    def get_state(self, s):\n",
        "        return tuple([np.asscalar(np.digitize(s[i], self.bins[i])) for i in range(4)])\n",
        "    \n",
        "    def getAction(self, s):\n",
        "        if np.random.rand() >= self.epsilon.value():\n",
        "            action = self.Q.get_max_a_for_Q(s)\n",
        "        else:\n",
        "            action = self.env.action_space.sample()\n",
        "        self.epsilon.decrement(1)\n",
        "        return action\n",
        "    \n",
        "    def train(self, episodes=100):\n",
        "        self.epsilon.isTraining = True\n",
        "        # run for 100 episodes:\"\n",
        "        for i in range(episodes):\n",
        "            s = self.get_state(self.env.reset())\n",
        "            steps = 0\n",
        "            while True:\n",
        "                action = self.getAction(s)\n",
        "                \n",
        "                s_1, reward, done, info = self.env.step(action)\n",
        "                s_1 = self.get_state(s_1)\n",
        "                \n",
        "                q = self.Q.get_Q(s, action)\n",
        "                max_q_s_1 = (1 - done) * self.Q.get_max_Q(s_1)\n",
        "                \n",
        "                q = q + self.alpha * (reward + self.gamma * max_q_s_1 - q)\n",
        "                self.Q.set_Q(s, action, q)\n",
        "                s = s_1\n",
        "                \n",
        "                steps += 1\n",
        "                if done:\n",
        "#                     print(\"Training episode finished after {} timesteps\".format(steps))\n",
        "                    break\n",
        "            self.episode_durations.append(steps)\n",
        "                \n",
        "    \n",
        "    def run(self):\n",
        "        self.env = wrap_env(gym.make('CartPole-v0'))\n",
        "        self.epsilon.isTraining = False\n",
        "        s = self.env.reset()\n",
        "        steps = 0\n",
        "        while True:\n",
        "            self.env.render()\n",
        "            action = self.getAction(self.get_state(s))\n",
        "            s_1, reward, done, info = self.env.step(action)\n",
        "            s = s_1\n",
        "            steps += 1\n",
        "            if done:\n",
        "                print(\"Episode finished after {} timesteps\".format(steps))\n",
        "                break\n",
        "        self.env.close()\n",
        "\n",
        "agent = Agent()\n",
        "agent.train(episodes=4000)\n",
        "\n",
        "plt.figure(figsize=(10, 5))\n",
        "plt.title('Training...')\n",
        "plt.xlabel('Episode')\n",
        "plt.ylabel('Duration')\n",
        "plt.plot(agent.episode_durations)\n",
        "\n",
        "# print(agent.Q)"
      ],
      "execution_count": 0,
      "outputs": []
    },
    {
      "cell_type": "code",
      "metadata": {
        "id": "LFKZNESJoxP0",
        "colab_type": "code",
        "outputId": "27849d35-7bec-4d67-8527-3f71e47195cf",
        "colab": {
          "base_uri": "https://localhost:8080/",
          "height": 438
        }
      },
      "source": [
        "agent.run()\n",
        "show_video()"
      ],
      "execution_count": 0,
      "outputs": [
        {
          "output_type": "stream",
          "text": [
            "Episode finished after 200 timesteps\n"
          ],
          "name": "stdout"
        },
        {
          "output_type": "display_data",
          "data": {
            "text/html": [
              "<video alt=\"test\" autoplay \n",
              "                loop controls style=\"height: 400px;\">\n",
              "                <source src=\"data:video/mp4;base64,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\" type=\"video/mp4\" />\n",
              "             </video>"
            ],
            "text/plain": [
              "<IPython.core.display.HTML object>"
            ]
          },
          "metadata": {
            "tags": []
          }
        }
      ]
    },
    {
      "cell_type": "markdown",
      "metadata": {
        "id": "ffKF6BcFP09o",
        "colab_type": "text"
      },
      "source": [
        "# Solution 2 - modify reward"
      ]
    },
    {
      "cell_type": "code",
      "metadata": {
        "id": "YI9NUQL6jSLX",
        "colab_type": "code",
        "outputId": "c7963080-f171-4340-8cd9-490d49c4e671",
        "colab": {
          "base_uri": "https://localhost:8080/",
          "height": 366
        }
      },
      "source": [
        "class Agent():\n",
        "    def __init__(self):\n",
        "        self.env = gym.make('CartPole-v0')\n",
        "        self.alpha = 0.2\n",
        "        self.gamma = 0.999\n",
        "        self.Q = QTable(num_actions=2)\n",
        "        self.epsilon = Epsilon(start=1.0, end=0.0, update_decrement=0.001)\n",
        "        \n",
        "        # get initial state, divide continuous states into discrete bins\n",
        "        self.bins = []\n",
        "        self.bins.append(np.linspace(-10, 10, 1))\n",
        "        self.bins.append(np.linspace(-10, 10, 1))\n",
        "        self.bins.append(np.linspace(-math.radians(12), math.radians(12), 5))\n",
        "        self.bins.append(np.linspace(-math.radians(20), math.radians(20), 5))\n",
        "        \n",
        "        self.episode_durations = []\n",
        "        \n",
        "    def get_state(self, s):\n",
        "        return tuple([np.asscalar(np.digitize(s[i], self.bins[i])) for i in range(4)])\n",
        "    \n",
        "    def getAction(self, s):\n",
        "        if np.random.rand() >= self.epsilon.value():\n",
        "            action = self.Q.get_max_a_for_Q(s)\n",
        "        else:\n",
        "            action = self.env.action_space.sample()\n",
        "        self.epsilon.decrement(1)\n",
        "        return action\n",
        "    \n",
        "    def train(self, episodes=100):\n",
        "        self.epsilon.isTraining = True\n",
        "        # run for 100 episodes:\"\n",
        "        for i in range(episodes):\n",
        "            s = self.get_state(self.env.reset())\n",
        "            steps = 0\n",
        "            while True:\n",
        "                action = self.getAction(s)\n",
        "                \n",
        "                s_1, reward, done, info = self.env.step(action)\n",
        "                s_1 = self.get_state(s_1)\n",
        "                \n",
        "                q = self.Q.get_Q(s, action)\n",
        "                max_q_s_1 = (1 - done) * self.Q.get_max_Q(s_1)\n",
        "                \n",
        "                if done and steps < 199:\n",
        "                  reward = -100\n",
        "                \n",
        "                q = q + self.alpha * (reward + self.gamma * max_q_s_1 - q)\n",
        "                self.Q.set_Q(s, action, q)\n",
        "                s = s_1\n",
        "                \n",
        "                steps += 1\n",
        "                if done:\n",
        "#                     print(\"Training episode finished after {} timesteps\".format(steps))\n",
        "                    break\n",
        "            self.episode_durations.append(steps)\n",
        "                \n",
        "    \n",
        "    def run(self):\n",
        "        self.env = wrap_env(gym.make('CartPole-v0'))\n",
        "        self.epsilon.isTraining = False\n",
        "        s = self.env.reset()\n",
        "        steps = 0\n",
        "        while True:\n",
        "            self.env.render()\n",
        "            action = self.getAction(self.get_state(s))\n",
        "            s_1, reward, done, info = self.env.step(action)\n",
        "            s = s_1\n",
        "            steps += 1\n",
        "            if done:\n",
        "                print(\"Episode finished after {} timesteps\".format(steps))\n",
        "                break\n",
        "        self.env.close()\n",
        "\n",
        "agent = Agent()\n",
        "agent.train(episodes=200)\n",
        "\n",
        "plt.figure(figsize=(10, 5))\n",
        "plt.title('Training...')\n",
        "plt.xlabel('Episode')\n",
        "plt.ylabel('Duration')\n",
        "plt.plot(agent.episode_durations)\n",
        "\n",
        "# print(agent.Q)"
      ],
      "execution_count": 0,
      "outputs": [
        {
          "output_type": "execute_result",
          "data": {
            "text/plain": [
              "[<matplotlib.lines.Line2D at 0x7fdc42880470>]"
            ]
          },
          "metadata": {
            "tags": []
          },
          "execution_count": 27
        },
        {
          "output_type": "display_data",
          "data": {
            "image/png": "[encoded data removed]",
            "text/plain": [
              "<matplotlib.figure.Figure at 0x7fdc4292b278>"
            ]
          },
          "metadata": {
            "tags": []
          }
        }
      ]
    },
    {
      "cell_type": "code",
      "metadata": {
        "id": "Wo1yubsSQGVB",
        "colab_type": "code",
        "outputId": "a7ef8dfc-cb3b-48c8-abfa-341b04d3c6f7",
        "colab": {
          "base_uri": "https://localhost:8080/",
          "height": 438
        }
      },
      "source": [
        "agent.run()\n",
        "show_video()"
      ],
      "execution_count": 0,
      "outputs": [
        {
          "output_type": "stream",
          "text": [
            "Episode finished after 200 timesteps\n"
          ],
          "name": "stdout"
        },
        {
          "output_type": "display_data",
          "data": {
            "text/html": [
              "<video alt=\"test\" autoplay \n",
              "                loop controls style=\"height: 400px;\">\n",
              "                <source src=\"data:video/mp4;base64,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\" type=\"video/mp4\" />\n",
              "             </video>"
            ],
            "text/plain": [
              "<IPython.core.display.HTML object>"
            ]
          },
          "metadata": {
            "tags": []
          }
        }
      ]
    }
  ]
}